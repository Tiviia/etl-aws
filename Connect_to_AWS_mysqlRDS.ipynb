{
  "nbformat": 4,
  "nbformat_minor": 0,
  "metadata": {
    "colab": {
      "name": "Connect_to_AWS_mysqlRDS.ipynb",
      "provenance": [],
      "collapsed_sections": []
    },
    "kernelspec": {
      "name": "python3",
      "display_name": "Python 3"
    }
  },
  "cells": [
    {
      "cell_type": "markdown",
      "metadata": {
        "id": "supe8093cL2D",
        "colab_type": "text"
      },
      "source": [
        "Import Librairies"
      ]
    },
    {
      "cell_type": "code",
      "metadata": {
        "id": "no_ocsMXbsSm",
        "colab_type": "code",
        "colab": {}
      },
      "source": [
        "import pandas as pd\n"
      ],
      "execution_count": null,
      "outputs": []
    },
    {
      "cell_type": "code",
      "metadata": {
        "id": "PHijaagmqbeZ",
        "colab_type": "code",
        "colab": {}
      },
      "source": [
        "#!pip install mysql-connector"
      ],
      "execution_count": null,
      "outputs": []
    },
    {
      "cell_type": "code",
      "metadata": {
        "id": "kYzn0oNgOuUw",
        "colab_type": "code",
        "colab": {}
      },
      "source": [
        "try:\n",
        "  from sqlalchemy import create_engine\n",
        "except:\n",
        "  #!pip install sqlalchemy\n",
        "  from sqlalchemy import create_engine"
      ],
      "execution_count": null,
      "outputs": []
    },
    {
      "cell_type": "code",
      "metadata": {
        "id": "YOFQnrmib8aP",
        "colab_type": "code",
        "colab": {}
      },
      "source": [
        "try :\n",
        "  import pymysql\n",
        "except :\n",
        "  #!pip install pymysql\n",
        "  import pymysql"
      ],
      "execution_count": null,
      "outputs": []
    },
    {
      "cell_type": "markdown",
      "metadata": {
        "id": "uoNT6TRucZa1",
        "colab_type": "text"
      },
      "source": [
        "Connect to database MySQL RDS AWS (look Connectivity and security)"
      ]
    },
    {
      "cell_type": "code",
      "metadata": {
        "id": "ttO8mbPucWFV",
        "colab_type": "code",
        "colab": {}
      },
      "source": [
        "\n",
        "host=\"nomdatabase.etc.zone.rds.amazonaws.com\"\n",
        "port=\n",
        "dbname=\"nomdatabase\"\n",
        "user=\"admin\"\n",
        "password=\"yourpasswordaws\"\n"
      ],
      "execution_count": 1,
      "outputs": []
    },
    {
      "cell_type": "code",
      "metadata": {
        "id": "SvaEkcuVikpd",
        "colab_type": "code",
        "colab": {}
      },
      "source": [
        "#Connexion to RDS AWS\n",
        "conn = pymysql.connect(host, user=user,port=port,passwd=password)"
      ],
      "execution_count": null,
      "outputs": []
    },
    {
      "cell_type": "code",
      "metadata": {
        "id": "Ek4FYgn3Ln_w",
        "colab_type": "code",
        "colab": {}
      },
      "source": [
        "#Creation curseur\n",
        "cur = conn.cursor()"
      ],
      "execution_count": null,
      "outputs": []
    },
    {
      "cell_type": "code",
      "metadata": {
        "id": "XPO1dmQ4iL28",
        "colab_type": "code",
        "colab": {}
      },
      "source": [
        "#List of database\n",
        "cur.execute(\"SHOW DATABASES\")\n",
        "\n",
        "#Fetch all the rows\n",
        "databaseList= cur.fetchall()\n",
        "\n",
        "for datatbase in databaseList:\n",
        "  print(datatbase)"
      ],
      "execution_count": null,
      "outputs": []
    },
    {
      "cell_type": "code",
      "metadata": {
        "id": "-EKTmBiSCfEk",
        "colab_type": "code",
        "colab": {
          "base_uri": "https://localhost:8080/",
          "height": 35
        },
        "outputId": "2f8040f2-cc8b-4a95-b0ef-71ba7e26bd50"
      },
      "source": [
        "#creation database \n",
        "#SQL Statement to create a database\n",
        "nomdb = \"newdb\"\n",
        "sqlStatemen= \"CREATE DATABASE \"+ nomdb  \n",
        "\n",
        "# Execute the create database SQL statment through the cursor instance\n",
        "\n",
        "cur.execute(sqlStatemen)"
      ],
      "execution_count": null,
      "outputs": [
        {
          "output_type": "execute_result",
          "data": {
            "text/plain": [
              "1"
            ]
          },
          "metadata": {
            "tags": []
          },
          "execution_count": 15
        }
      ]
    },
    {
      "cell_type": "code",
      "metadata": {
        "id": "61PuG8YsxRQz",
        "colab_type": "code",
        "colab": {}
      },
      "source": [
        "#We are using database1\n",
        "cur.execute(\"USE database1\")"
      ],
      "execution_count": 2,
      "outputs": []
    },
    {
      "cell_type": "code",
      "metadata": {
        "id": "Mwy1sf0XxaB4",
        "colab_type": "code",
        "colab": {
          "base_uri": "https://localhost:8080/",
          "height": 54
        },
        "outputId": "2233a795-7151-4417-e362-4d7564159a31"
      },
      "source": [
        "sql = \"SHOW TABLES\"\n",
        "cur.execute(sql)\n",
        "\n",
        "# Fetch all the records\n",
        "result = cur.fetchall()\n",
        "for i in result:\n",
        "    print(i)"
      ],
      "execution_count": null,
      "outputs": [
        {
          "output_type": "stream",
          "text": [
            "('transactionbyshop',)\n",
            "('transactionbyshop2',)\n"
          ],
          "name": "stdout"
        }
      ]
    },
    {
      "cell_type": "code",
      "metadata": {
        "id": "PdIoUvf_x_tI",
        "colab_type": "code",
        "colab": {}
      },
      "source": [
        "#Select Table \"transactionbyshop2\"\n",
        "sql2 = \"SELECT * FROM transactionbyshop2\"\n",
        "\n",
        "cur.execute(sql2)\n",
        "\n",
        "# Fetch all the records\n",
        "result = cur.fetchall()\n",
        "for i in result:\n",
        "    print(i)"
      ],
      "execution_count": null,
      "outputs": []
    },
    {
      "cell_type": "markdown",
      "metadata": {
        "id": "kuEqiwo7tJsI",
        "colab_type": "text"
      },
      "source": [
        "Closing connection to the database RDS"
      ]
    },
    {
      "cell_type": "code",
      "metadata": {
        "id": "eO44o8Pshrkm",
        "colab_type": "code",
        "colab": {}
      },
      "source": [
        "conn.close()"
      ],
      "execution_count": null,
      "outputs": []
    }
  ]
}